{
 "cells": [
  {
   "cell_type": "code",
   "execution_count": 3,
   "metadata": {},
   "outputs": [],
   "source": [
    "import obstacle_course_gen as og\n",
    "\n",
    "for ii in range(10):\n",
    "    og.gen_obs(num_obstacles = ii+1,fname = f\"{ii+1}_obstacle.txt\")"
   ]
  }
 ],
 "metadata": {
  "kernelspec": {
   "display_name": "visibility_graph",
   "language": "python",
   "name": "python3"
  },
  "language_info": {
   "codemirror_mode": {
    "name": "ipython",
    "version": 3
   },
   "file_extension": ".py",
   "mimetype": "text/x-python",
   "name": "python",
   "nbconvert_exporter": "python",
   "pygments_lexer": "ipython3",
   "version": "3.9.13 (main, Aug 25 2022, 23:51:50) [MSC v.1916 64 bit (AMD64)]"
  },
  "orig_nbformat": 4,
  "vscode": {
   "interpreter": {
    "hash": "550cd510eedba3696dd8336903d42e599e0e4511260fa0b47a38af8fd412aceb"
   }
  }
 },
 "nbformat": 4,
 "nbformat_minor": 2
}
