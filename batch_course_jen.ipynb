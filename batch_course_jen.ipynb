{
 "cells": [
  {
   "cell_type": "code",
   "execution_count": 3,
   "metadata": {},
   "outputs": [],
   "source": [
    "import obstacle_course_gen as og\n",
    "\n",
    "for ii in range(10):\n",
    "    og.gen_obs(num_obstacles = ii+1,fname = f\"{ii+1}_obstacle.txt\")"
   ]
  }
 ],
 "metadata": {
  "kernelspec": {
   "display_name": "Python 3 (ipykernel)",
   "language": "python",
   "name": "python3"
  },
  "language_info": {
   "codemirror_mode": {
    "name": "ipython",
    "version": 3
   },
   "file_extension": ".py",
   "mimetype": "text/x-python",
   "name": "python",
   "nbconvert_exporter": "python",
   "pygments_lexer": "ipython3",
   "version": "3.9.13"
  },
  "vscode": {
   "interpreter": {
    "hash": "a4449e68fdfa72a39a76299b4d18c52e1ab7fd20642703db4079977f5fd4ea0a"
   }
  }
 },
 "nbformat": 4,
 "nbformat_minor": 2
}
