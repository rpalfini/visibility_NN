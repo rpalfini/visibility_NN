{
 "cells": [
  {
   "cell_type": "markdown",
   "metadata": {},
   "source": [
    "# CSV Operations Notebook  \n",
    "This notebook contains various commands for performing operations regarding manipulation of data files."
   ]
  },
  {
   "cell_type": "code",
   "execution_count": 1,
   "metadata": {},
   "outputs": [],
   "source": [
    "import csv_file_combiner as cfc\n",
    "from ML_code import util"
   ]
  },
  {
   "cell_type": "markdown",
   "metadata": {},
   "source": [
    "## List csv files in folder"
   ]
  },
  {
   "cell_type": "code",
   "execution_count": 2,
   "metadata": {},
   "outputs": [
    {
     "name": "stdout",
     "output_type": "stream",
     "text": [
      "23_04_17_google_batch1_merge.csv\n",
      "23_04_17_google_batch2_merge.csv\n",
      "23_04_18_google_batch1_merge.csv\n",
      "23_04_18_google_batch2_merge.csv\n",
      "23_04_20_google_batch1_merge.csv\n",
      "23_04_20_google_batch2_merge.csv\n",
      "23_04_20_google_batch3_merge.csv\n",
      "23_04_23_google_batch1_merge.csv\n",
      "23_04_23_google_batch2_merge.csv\n",
      "23_04_25_google_batch1_merge.csv\n",
      "23_04_27_google_batch1_merge.csv\n",
      "23_04_28_google_batch1_merge.csv\n",
      "23_04_28_google_batch2_merge.csv\n",
      "23_04_30_google_batch1_merge.csv\n",
      "23_04_30_google_batch2_merge.csv\n"
     ]
    }
   ],
   "source": [
    "folder_path = \"D:/Vis_network_data/to_be_added_to_main_file/23_04_17-4_30\"\n",
    "csv_files = cfc.get_file_list(folder_path)\n",
    "for x in csv_files: print(x)\n"
   ]
  },
  {
   "cell_type": "markdown",
   "metadata": {},
   "source": [
    "## Count Lines\n",
    "### In One File"
   ]
  },
  {
   "cell_type": "code",
   "execution_count": 3,
   "metadata": {},
   "outputs": [
    {
     "name": "stdout",
     "output_type": "stream",
     "text": [
      "number of rows = 25000\n"
     ]
    }
   ],
   "source": [
    "counting_file = \"C:/Users/Robert/git/visibility_NN/ML_code/Data/small_main_data_file_courses1.csv\"\n",
    "row_gen = cfc.csv_reader(counting_file)\n",
    "row_count = cfc.row_counter(row_gen)\n",
    "print(f'number of rows = {row_count}')"
   ]
  },
  {
   "cell_type": "markdown",
   "metadata": {},
   "source": [
    "### All Files in Directory"
   ]
  },
  {
   "cell_type": "code",
   "execution_count": 4,
   "metadata": {},
   "outputs": [],
   "source": [
    "# counting_dir = \"D:/Vis_network_data/data_file_by_course\"\n",
    "# total_rows = cfc.count_rows_in_dir(counting_dir)\n",
    "# print(f'total rows = {total_rows}')\n",
    "\n",
    "    "
   ]
  },
  {
   "cell_type": "code",
   "execution_count": 5,
   "metadata": {},
   "outputs": [],
   "source": [
    "# counting_dir = \"D:/Vis_network_data/data_file_by_course\"\n",
    "# total_rows = cfc.other_count_rows_in_dir(counting_dir)\n",
    "# print(f'total rows = {total_rows}')"
   ]
  },
  {
   "cell_type": "markdown",
   "metadata": {},
   "source": [
    "### Count Number of Zero Lines"
   ]
  },
  {
   "cell_type": "code",
   "execution_count": 6,
   "metadata": {},
   "outputs": [
    {
     "name": "stdout",
     "output_type": "stream",
     "text": [
      "num_zero_lines = 0\n"
     ]
    }
   ],
   "source": [
    "# file_path = './results_merge/3_11_main_data_file.csv'\n",
    "file_path = \"C:/Users/Robert/git/visibility_NN/ML_code/Data/small_main_data_file_courses1.csv\"\n",
    "num_zero_lines = cfc.count_zero_lines(file_path)\n",
    "print(f'num_zero_lines = {num_zero_lines}')"
   ]
  },
  {
   "cell_type": "markdown",
   "metadata": {},
   "source": [
    "## List Directories in a Given Path"
   ]
  },
  {
   "cell_type": "code",
   "execution_count": null,
   "metadata": {},
   "outputs": [],
   "source": []
  },
  {
   "cell_type": "markdown",
   "metadata": {},
   "source": [
    "## Shift Data"
   ]
  },
  {
   "cell_type": "code",
   "execution_count": 7,
   "metadata": {},
   "outputs": [],
   "source": [
    "# file_path = \"C:/Users/Robert/git/visibility_NN/ML_code/Data/small_main_data_file_courses20.csv\"\n",
    "# f_gen = cfc.csv_reader(file_path)\n",
    "# row = next(f_gen)\n",
    "# # print(row)\n",
    "# values = row.split(',')\n",
    "# values = [float(x) for x in values]\n",
    "# print(values)\n",
    "\n",
    "# num_obs = 20\n",
    "# num_rows = 3*num_obs\n",
    "# interval = 2\n",
    "# result_list = []\n",
    "\n",
    "# for ii in range(len(values)):\n",
    "#     if ii > 3 and (ii-4) % (interval + 1) < interval and ii < len(values)-num_obs-1:\n",
    "#         result_list.append(values[ii] - 15)\n",
    "#     elif ii < 4:\n",
    "#         result_list.append(values[ii] - 15)\n",
    "#     else:\n",
    "#         result_list.append(values[ii])\n",
    "\n",
    "# print(result_list)\n",
    "# if len(values) == len(result_list):\n",
    "#     print('lists are same length')\n",
    "# else:\n",
    "#     print('lists different lengths')\n",
    "\n"
   ]
  },
  {
   "cell_type": "code",
   "execution_count": 8,
   "metadata": {},
   "outputs": [
    {
     "name": "stdout",
     "output_type": "stream",
     "text": [
      "[[ 0.          0.         23.11478323  0.         18.00497084  9.06902576\n",
      "   2.50774597 16.40918315 21.65465788  5.83494798  8.36309182  6.5811889\n",
      "   1.          0.          0.          0.         23.11478323]\n",
      " [ 0.          0.         23.97543533  0.         18.00497084  9.06902576\n",
      "   2.50774597 16.40918315 21.65465788  5.83494798  8.36309182  6.5811889\n",
      "   1.          0.          0.          0.         23.97543533]]\n",
      "[[-15.         -15.           8.11478323 -15.           3.00497084\n",
      "   -5.93097424   2.50774597   1.40918315   6.65465788   5.83494798\n",
      "   -6.63690818  -8.4188111    1.           0.           0.\n",
      "    0.          23.11478323]\n",
      " [-15.         -15.           8.97543533 -15.           3.00497084\n",
      "   -5.93097424   2.50774597   1.40918315   6.65465788   5.83494798\n",
      "   -6.63690818  -8.4188111    1.           0.           0.\n",
      "    0.          23.97543533]]\n",
      "arrays are same length\n"
     ]
    }
   ],
   "source": [
    "import numpy as np\n",
    "\n",
    "\n",
    "\n",
    "file_path = \"C:/Users/Robert/git/visibility_NN/ML_code/Data/small_main_data_file_courses3.csv\"\n",
    "num_obs = 3\n",
    "f_gen = cfc.csv_reader(file_path)\n",
    "string1 = next(f_gen)\n",
    "string2 = next(f_gen)\n",
    "\n",
    "array1 = np.array([float(val) for val in string1.split(',')])\n",
    "array2 = np.array([float(val) for val in string2.split(',')])\n",
    "result_array = np.vstack((array1, array2))\n",
    "print(result_array)\n",
    "\n",
    "modified_array = util.shift_data_set(result_array,num_obs)\n",
    "print(modified_array)\n",
    "\n",
    "if result_array.shape == modified_array.shape:\n",
    "    print('arrays are same length')\n",
    "else:\n",
    "    print('arrays different lengths')"
   ]
  },
  {
   "cell_type": "code",
   "execution_count": 9,
   "metadata": {},
   "outputs": [
    {
     "name": "stdout",
     "output_type": "stream",
     "text": [
      "[[ 0.          0.         23.11478323  0.         18.00497084  9.06902576\n",
      "   2.50774597 16.40918315 21.65465788  5.83494798  8.36309182  6.5811889\n",
      "   1.          0.          0.          0.         23.11478323]\n",
      " [ 0.          0.         23.97543533  0.         18.00497084  9.06902576\n",
      "   2.50774597 16.40918315 21.65465788  5.83494798  8.36309182  6.5811889\n",
      "   1.          0.          0.          0.         23.97543533]]\n",
      "[[-15.         -15.           8.11478323 -15.           3.00497084\n",
      "   -5.93097424   2.50774597   1.40918315   6.65465788   5.83494798\n",
      "   -6.63690818  -8.4188111    1.           0.           0.\n",
      "    0.          23.11478323]\n",
      " [-15.         -15.           8.97543533 -15.           3.00497084\n",
      "   -5.93097424   2.50774597   1.40918315   6.65465788   5.83494798\n",
      "   -6.63690818  -8.4188111    1.           0.           0.\n",
      "    0.          23.97543533]]\n",
      "arrays are same length\n"
     ]
    }
   ],
   "source": [
    "import numpy as np\n",
    "\n",
    "\n",
    "\n",
    "file_path = \"C:/Users/Robert/git/visibility_NN/ML_code/Data/small_main_data_file_courses3.csv\"\n",
    "num_obs = 3\n",
    "f_gen = cfc.csv_reader(file_path)\n",
    "string1 = next(f_gen)\n",
    "string2 = next(f_gen)\n",
    "\n",
    "array1 = np.array([float(val) for val in string1.split(',')])\n",
    "array2 = np.array([float(val) for val in string2.split(',')])\n",
    "result_array = np.vstack((array1, array2))\n",
    "print(result_array)\n",
    "\n",
    "modified_array = np.empty_like(result_array)\n",
    "for ii, row in enumerate(result_array):\n",
    "    mod_row = util.shift_row(row,num_obs)\n",
    "    modified_array[ii,:] = np.array(mod_row)\n",
    "print(modified_array)\n",
    "\n",
    "if result_array.shape == modified_array.shape:\n",
    "    print('arrays are same length')\n",
    "else:\n",
    "    print('arrays different lengths')\n",
    "\n"
   ]
  },
  {
   "cell_type": "code",
   "execution_count": 10,
   "metadata": {},
   "outputs": [
    {
     "name": "stdout",
     "output_type": "stream",
     "text": [
      "0\n",
      "[1 2 3]\n",
      "1\n",
      "[4 5 6]\n",
      "2\n",
      "[7 8 9]\n"
     ]
    }
   ],
   "source": [
    "import numpy as np\n",
    "\n",
    "# Create a sample NumPy array\n",
    "data = np.array([[1, 2, 3],\n",
    "                 [4, 5, 6],\n",
    "                 [7, 8, 9]])\n",
    "\n",
    "# Iterate through the rows using a for loop\n",
    "for ii,row in enumerate(data):\n",
    "    print(ii)\n",
    "    print(row)"
   ]
  },
  {
   "cell_type": "markdown",
   "metadata": {},
   "source": [
    "## Validate File\n",
    "### Check if File has Correct \\# Columns in each row"
   ]
  },
  {
   "cell_type": "code",
   "execution_count": 11,
   "metadata": {},
   "outputs": [
    {
     "name": "stdout",
     "output_type": "stream",
     "text": [
      "is_valid = True\n"
     ]
    }
   ],
   "source": [
    "num_obs = 1 #number of obstacles\n",
    "file_to_check = \"C:/Users/Robert/git/visibility_NN/ML_code/Data/small_main_data_file_courses1.csv\"\n",
    "expected_num_columns = cfc.calculate_num_columns(num_obs)\n",
    "is_valid,invalid_rows,total_rows = cfc.data_check(file_to_check,expected_num_columns)\n",
    "print(f'is_valid = {is_valid}')\n",
    "if not is_valid: print(f'invalid_rows/total_rows = {invalid_rows}/{total_rows}')"
   ]
  },
  {
   "cell_type": "markdown",
   "metadata": {},
   "source": [
    "### Remove Invalid Data from File\n",
    "This script will read a file that has invalid data (the incorrect number of columns in a row), remove those lines, and output it to a file with the suffix \"_fixed\".  This can only run if the file has been checked and it is found to have invalid rows."
   ]
  },
  {
   "cell_type": "code",
   "execution_count": 12,
   "metadata": {},
   "outputs": [
    {
     "name": "stdout",
     "output_type": "stream",
     "text": [
      "Data is valid, does not need remove operation.\n"
     ]
    }
   ],
   "source": [
    "if not is_valid:\n",
    "    cfc.remove_invalid_data(fpath)\n",
    "else:\n",
    "    print('Data is valid, does not need remove operation.')"
   ]
  },
  {
   "cell_type": "markdown",
   "metadata": {},
   "source": [
    "## Print Window of Data around a Target Row"
   ]
  },
  {
   "cell_type": "code",
   "execution_count": 13,
   "metadata": {},
   "outputs": [
    {
     "name": "stdout",
     "output_type": "stream",
     "text": [
      "0.0,0.0,24.97322920555525,10.344827586206897,16.273699456505614,23.221369162921548,1.6788393453475583,10.857663113410087,9.820216380723874,2.376913910584751,19.15322380976505,16.628425491349105,2.914591335958061,20.106099034563645,4.530064357581497,4.027591610408261,10.470368188093214,15.52083604480064,1.2068540722466672,11.697677841978136,20.77980247406274,1.0,7.179826442151695,21.712424564215027,1.0,23.11934386291558,22.42837328039059,1.0,23.963229205555248,10.591172089661784,1.0,9.477849729375848,3.560721963624596,0.6817666399056416,9.766762449833408,25.68111545540389,1.570970394528421,0.0,0.0,0.0,0.0,0.0,0.0,0.0,0.0,0.0,0.0,0.0,0.0,0.0,0.0,0.0,0.0,0.0,0.0,0.0,0.0,0.0,0.0,0.0,0.0,0.0,0.0,0.0,0.0,0.0,0.0,1.0,0.0,0.0,0.0,0.0,0.0,1.0,0.0,1.0,1.0,1.0,1.0,1.0,1.0,1.0,1.0,1.0,27.21805648636077\n",
      "\n",
      "0.0,0.0,25.531759293826887,10.344827586206897,16.273699456505614,23.221369162921548,1.6788393453475583,10.857663113410087,9.820216380723874,2.376913910584751,19.15322380976505,16.628425491349105,2.914591335958061,20.106099034563645,4.530064357581497,4.027591610408261,10.470368188093214,15.52083604480064,1.2068540722466672,11.697677841978136,20.77980247406274,1.0,7.179826442151695,21.712424564215027,1.0,23.11934386291558,22.42837328039059,1.0,23.963229205555248,10.591172089661784,1.0,9.477849729375848,3.560721963624596,0.6817666399056416,9.766762449833408,25.68111545540389,1.570970394528421,0.0,0.0,0.0,0.0,0.0,0.0,0.0,0.0,0.0,0.0,0.0,0.0,0.0,0.0,0.0,0.0,0.0,0.0,0.0,0.0,0.0,0.0,0.0,0.0,0.0,0.0,0.0,0.0,0.0,0.0,1.0,0.0,0.0,0.0,0.0,0.0,1.0,0.0,1.0,1.0,1.0,1.0,1.0,1.0,1.0,1.0,1.0,27.63800734851242\n",
      "\n",
      "0.0,0.0,26.09028938209853,10.344827586206897,16.273699456505614,23.221369162921548,1.6788393453475583,10.857663113410087,9.820216380723874,2.376913910584751,19.15322380976505,16.628425491349105,2.914591335958061,20.106099034563645,4.530064357581497,4.027591610408261,10.470368188093214,15.52083604480064,1.2068540722466672,11.697677841978136,20.77980247406274,1.0,7.179826442151695,21.712424564215027,1.0,23.11934386291558,22.42837328039059,1.0,23.963229205555248,10.591172089661784,1.0,9.477849729375848,3.560721963624596,0.6817666399056416,9.766762449833408,25.68111545540389,1.570970394528421,0.0,0.0,0.0,0.0,0.0,0.0,0.0,0.0,0.0,0.0,0.0,0.0,0.0,0.0,0.0,0.0,0.0,0.0,0.0,0.0,0.0,0.0,0.0,0.0,0.0,0.0,0.0,0.0,0.0,0.0,1.0,0.0,0.0,0.0,0.0,0.0,1.0,0.0,1.0,1.0,1.0,1.0,1.0,1.0,1.0,1.0,1.0,28.14322634231656\n",
      "\n",
      "0.0,0.0,26.648819470370167,10.344827586206897,16.273699456505614,23.221369162921548,1.6788393453475583,10.857663113410087,9.820216380723874,2.376913910584751,19.15322380976505,16.628425491349105,2.914591335958061,20.106099034563645,4.530064357581497,4.027591610408261,10.470368188093214,15.52083604480064,1.2068540722466672,11.697677841978136,20.77980247406274,1.0,7.179826442151695,21.712424564215027,1.0,23.11934386291558,22.42837328039059,1.0,23.963229205555248,10.591172089661784,1.0,9.477849729375848,3.560721963624596,0.6817666399056416,9.766762449833408,25.68111545540389,1.570970394528421,0.0,0.0,0.0,0.0,0.0,0.0,0.0,0.0,0.0,0.0,0.0,0.0,0.0,0.0,0.0,0.0,0.0,0.0,0.0,0.0,0.0,0.0,0.0,0.0,0.0,0.0,0.0,0.0,0.0,0.0,1.0,0.0,0.0,0.0,0.0,0.0,1.0,0.0,1.0,1.0,1.0,1.0,1.0,1.0,1.0,1.0,1.0,28.672202473510907\n",
      "\n",
      "0.0,0.0,26.648819470370167,10.344827586206897,16.273699456505614,23.221369162921548,1.6788393453475583,10.857663113410087,9.820216380723874,2.376913910584751,19.15322380976505,16.628425491349105,2.914591335958061,20.106099034563645,4.530064357581497,4.027591610408261,10.470368188093214,15.52083604480064,1.2068540722466672,11.697677841978136,20.77980247406274,1.0,7.179826442151695,21.712424564215027,1.0,23.11934386291558,22.42837328039059,1.0,23.963229205555248,10.591172089661784,1.0,9.477849729375848,3.560721963624596,0.6817666399056416,9.766762449833408,25.68111545540389,1.570970394528421,0.0,0.0,0.0,0.0,0.0,0.0,0.0,0.0,0.0,0.0,0.0,0.0,0.0,0.0,0.0,0.0,0.0,0.0,0.0,0.0,0.0,0.0,0.0,0.0,0.0,0.0,0.0,0.0,0.0,0.0,1.0,0.0,0.0,0.0,0.0,0.0,1.0,0.0,1.0,1.0,1.0,1.0,1.0,1.0,1.0,1.0,1.0,28.672202473510907\n",
      "\n",
      "0.0,0.0,27.20734955864181,10.344827586206897,16.273699456505614,23.221369162921548,1.6788393453475583,10.857663113410087,9.820216380723874,2.376913910584751,19.15322380976505,16.628425491349105,2.914591335958061,20.106099034563645,4.530064357581497,4.027591610408261,10.470368188093214,15.52083604480064,1.2068540722466672,11.697677841978136,20.77980247406274,1.0,7.179826442151695,21.712424564215027,1.0,23.11934386291558,22.42837328039059,1.0,23.963229205555248,10.591172089661784,1.0,9.477849729375848,3.560721963624596,0.6817666399056416,9.766762449833408,25.68111545540389,1.570970394528421,0.0,0.0,0.0,0.0,0.0,0.0,0.0,0.0,0.0,0.0,0.0,0.0,0.0,0.0,0.0,0.0,0.0,0.0,0.0,0.0,0.0,0.0,0.0,0.0,0.0,0.0,0.0,0.0,0.0,0.0,1.0,0.0,0.0,0.0,0.0,0.0,1.0,0.0,1.0,1.0,1.0,1.0,1.0,1.0,1.0,1.0,1.0,29.211789705127323\n",
      "\n",
      "0.0,0.0,27.765879646913447,10.344827586206897,16.273699456505614,23.221369162921548,1.6788393453475583,10.857663113410087,9.820216380723874,2.376913910584751,19.15322380976505,16.628425491349105,2.914591335958061,20.106099034563645,4.530064357581497,4.027591610408261,10.470368188093214,15.52083604480064,1.2068540722466672,11.697677841978136,20.77980247406274,1.0,7.179826442151695,21.712424564215027,1.0,23.11934386291558,22.42837328039059,1.0,23.963229205555248,10.591172089661784,1.0,9.477849729375848,3.560721963624596,0.6817666399056416,9.766762449833408,25.68111545540389,1.570970394528421,0.0,0.0,0.0,0.0,0.0,0.0,0.0,0.0,0.0,0.0,0.0,0.0,0.0,0.0,0.0,0.0,0.0,0.0,0.0,0.0,0.0,0.0,0.0,0.0,0.0,0.0,0.0,0.0,0.0,0.0,1.0,0.0,0.0,0.0,0.0,0.0,1.0,0.0,1.0,1.0,1.0,1.0,1.0,1.0,1.0,1.0,1.0,29.75625876619707\n",
      "\n",
      "0.0,0.0,28.324409735185085,10.344827586206897,16.273699456505614,23.221369162921548,1.6788393453475583,10.857663113410087,9.820216380723874,2.376913910584751,19.15322380976505,16.628425491349105,2.914591335958061,20.106099034563645,4.530064357581497,4.027591610408261,10.470368188093214,15.52083604480064,1.2068540722466672,11.697677841978136,20.77980247406274,1.0,7.179826442151695,21.712424564215027,1.0,23.11934386291558,22.42837328039059,1.0,23.963229205555248,10.591172089661784,1.0,9.477849729375848,3.560721963624596,0.6817666399056416,9.766762449833408,25.68111545540389,1.570970394528421,0.0,0.0,0.0,0.0,0.0,0.0,0.0,0.0,0.0,0.0,0.0,0.0,0.0,0.0,0.0,0.0,0.0,0.0,0.0,0.0,0.0,0.0,0.0,0.0,0.0,0.0,0.0,0.0,0.0,0.0,1.0,0.0,0.0,0.0,0.0,0.0,1.0,0.0,1.0,1.0,1.0,1.0,1.0,1.0,1.0,1.0,1.0,30.3024494558733\n",
      "\n",
      "0.0,0.0,28.882939823456724,10.344827586206897,16.273699456505614,23.221369162921548,1.6788393453475583,10.857663113410087,9.820216380723874,2.376913910584751,19.15322380976505,16.628425491349105,2.914591335958061,20.106099034563645,4.530064357581497,4.027591610408261,10.470368188093214,15.52083604480064,1.2068540722466672,11.697677841978136,20.77980247406274,1.0,7.179826442151695,21.712424564215027,1.0,23.11934386291558,22.42837328039059,1.0,23.963229205555248,10.591172089661784,1.0,9.477849729375848,3.560721963624596,0.6817666399056416,9.766762449833408,25.68111545540389,1.570970394528421,0.0,0.0,0.0,0.0,0.0,0.0,0.0,0.0,0.0,0.0,0.0,0.0,0.0,0.0,0.0,0.0,0.0,0.0,0.0,0.0,0.0,0.0,0.0,0.0,0.0,0.0,0.0,0.0,0.0,0.0,1.0,0.0,0.0,0.0,0.0,0.0,1.0,0.0,1.0,1.0,1.0,1.0,1.0,1.0,1.0,1.0,1.0,30.850034623761523\n",
      "\n",
      "0.0,0.0,29.44146991172836,10.344827586206897,16.273699456505614,23.221369162921548,1.6788393453475583,10.857663113410087,9.820216380723874,2.376913910584751,19.15322380976505,16.628425491349105,2.914591335958061,20.106099034563645,4.530064357581497,4.027591610408261,10.470368188093214,15.52083604480064,1.2068540722466672,11.697677841978136,20.77980247406274,1.0,7.179826442151695,21.712424564215027,1.0,23.11934386291558,22.42837328039059,1.0,23.963229205555248,10.591172089661784,1.0,9.477849729375848,3.560721963624596,0.6817666399056416,9.766762449833408,25.68111545540389,1.570970394528421,0.0,0.0,0.0,0.0,0.0,0.0,0.0,0.0,0.0,0.0,0.0,0.0,0.0,0.0,0.0,0.0,0.0,0.0,0.0,0.0,0.0,0.0,0.0,0.0,0.0,0.0,0.0,0.0,0.0,0.0,1.0,0.0,0.0,0.0,0.0,0.0,1.0,0.0,1.0,1.0,1.0,1.0,1.0,1.0,1.0,1.0,1.0,31.398797769882567\n",
      "\n"
     ]
    }
   ],
   "source": [
    "file_path = './results_merge/3_11_main_data_file.csv'\n",
    "\n",
    "\n",
    "back_win = 3  # number of points behind target row to display\n",
    "forward_win = 5  # number of points in front of target window to display\n",
    "# target_row = 32447305\n",
    "target_row = 100\n",
    "cfc.print_data_window(file_path,target_row,back_win,forward_win)"
   ]
  }
 ],
 "metadata": {
  "kernelspec": {
   "display_name": "vis_graph_scipy",
   "language": "python",
   "name": "python3"
  },
  "language_info": {
   "codemirror_mode": {
    "name": "ipython",
    "version": 3
   },
   "file_extension": ".py",
   "mimetype": "text/x-python",
   "name": "python",
   "nbconvert_exporter": "python",
   "pygments_lexer": "ipython3",
   "version": "3.9.13"
  }
 },
 "nbformat": 4,
 "nbformat_minor": 2
}
