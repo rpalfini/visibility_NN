{
 "cells": [
  {
   "cell_type": "code",
   "execution_count": 12,
   "metadata": {},
   "outputs": [
    {
     "name": "stdout",
     "output_type": "stream",
     "text": [
      "['23_02_19_aws_batchb_10_course_1_obs_data.csv', '23_02_19_aws_batchb_10_course_4_obs_data.csv', '23_02_19_aws_batchb_10_course_5_obs_data.csv', '23_02_19_aws_batchb_11_course_1_obs_data.csv', '23_02_19_aws_batchb_11_course_3_obs_data.csv', '23_02_19_aws_batchb_12_course_3_obs_data.csv', '23_02_19_aws_batchb_13_course_3_obs_data.csv', '23_02_19_aws_batchb_14_course_3_obs_data.csv', '23_02_19_aws_batchb_1_course_4_obs_data.csv', '23_02_19_aws_batchb_1_course_5_obs_data.csv', '23_02_19_aws_batchb_2_course_4_obs_data.csv', '23_02_19_aws_batchb_2_course_5_obs_data.csv', '23_02_19_aws_batchb_3_course_4_obs_data.csv', '23_02_19_aws_batchb_3_course_5_obs_data.csv', '23_02_19_aws_batchb_4_course_4_obs_data.csv', '23_02_19_aws_batchb_4_course_5_obs_data.csv', '23_02_19_aws_batchb_5_course_4_obs_data.csv', '23_02_19_aws_batchb_5_course_5_obs_data.csv', '23_02_19_aws_batchb_6_course_4_obs_data.csv', '23_02_19_aws_batchb_6_course_5_obs_data.csv', '23_02_19_aws_batchb_7_course_4_obs_data.csv', '23_02_19_aws_batchb_7_course_5_obs_data.csv', '23_02_19_aws_batchb_8_course_4_obs_data.csv', '23_02_19_aws_batchb_8_course_5_obs_data.csv', '23_02_19_aws_batchb_9_course_4_obs_data.csv', '23_02_19_aws_batchb_9_course_5_obs_data.csv']\n"
     ]
    },
    {
     "data": {
      "text/plain": [
       "26"
      ]
     },
     "execution_count": 12,
     "metadata": {},
     "output_type": "execute_result"
    }
   ],
   "source": [
    "import os\n",
    "import glob\n",
    "\n",
    "folder = '23_02_19_aws_batchb'\n",
    "base_path = 'C:/Users/Robert/Documents/Vis_network_data/'\n",
    "path = 'C:/Users/Robert/Documents/Vis_network_data/23_02_19_aws_batchb'\n",
    "extension = 'csv'\n",
    "os.chdir(path)\n",
    "result = glob.glob('*.{}'.format(extension))\n",
    "print(result)\n",
    "len(result)"
   ]
  },
  {
   "cell_type": "code",
   "execution_count": 13,
   "metadata": {},
   "outputs": [
    {
     "name": "stdout",
     "output_type": "stream",
     "text": [
      "Total lines: 1\n"
     ]
    }
   ],
   "source": [
    "file_path = \"C:/Users/Robert/git/visibility_NN/results_merge/22_10_17_one_obstacle_data_merge.csv\"\n",
    "\n",
    "def _count_generator(reader):\n",
    "    b = reader(1024 * 1024)\n",
    "    while b:\n",
    "        yield b\n",
    "        b = reader(1024 * 1024)\n",
    "\n",
    "with open(file_path, 'rb') as fp:\n",
    "    c_generator = _count_generator(fp.raw.read)\n",
    "    # count each /n\n",
    "    count = sum(buffer.count(b'/n') for buffer in c_generator)\n",
    "    print('Total lines:', count + 1)\n"
   ]
  },
  {
   "cell_type": "code",
   "execution_count": 14,
   "metadata": {},
   "outputs": [
    {
     "name": "stdout",
     "output_type": "stream",
     "text": [
      "tt_lines 0\n"
     ]
    }
   ],
   "source": [
    "total_total_lines = 0\n",
    "for fname in result:\n",
    "    path_name = path + \"/\" + fname\n",
    "    \n",
    "    with open(path_name, 'rb') as fp:\n",
    "        c_generator = _count_generator(fp.raw.read)\n",
    "        # count each /n\n",
    "        count2 = sum(buffer.count(b'/n') for buffer in c_generator)\n",
    "        # print('Total lines:', count + 1)\n",
    "    total_total_lines += count2\n",
    "print(\"tt_lines\",total_total_lines)"
   ]
  },
  {
   "cell_type": "code",
   "execution_count": 15,
   "metadata": {},
   "outputs": [
    {
     "name": "stdout",
     "output_type": "stream",
     "text": [
      "['22_10_17_one_obstacle_data', '23_02_18_aws_batch7_3_course_1_obs_data.csv[+21]', '23_02_18_aws_batch8_0_course_1_obs_data.csv[+30]', '23_02_18_batch2', '23_02_19_aws_batch1_0_course_1_obs_data.csv[+13]', '23_02_19_aws_batch2_0_course_1_obs_data.csv[+10]', '23_02_19_aws_batch2_5_course_2_obs_data.csv[+6]', '23_02_19_aws_batch3_0_course_1_obs_data.csv[+13]', '23_02_19_aws_batch3_5_course_2_obs_data.csv[+7]', '23_02_19_aws_batch4_0_course_1_obs_data.csv[+13]', '23_02_19_aws_batch4_5_course_2_obs_data.csv[+6]', '23_02_19_aws_batch5_0_course_1_obs_data.csv[+12]', '23_02_19_aws_batch5_4_course_2_obs_data.csv[+8]', '23_02_19_aws_batch6_0_course_1_obs_data.csv[+9]', '23_02_19_aws_batch7_0_course_1_obs_data.csv[+12]', '23_02_19_aws_batch7_4_course_2_obs_data.csv[+8]', '23_02_19_aws_batch8_0_course_1_obs_data.csv[+12]', '23_02_19_aws_batcha_0_course_1_obs_data.csv[+28]', '23_02_19_aws_batchb', '23_02_19_aws_batchb_0_course_1_obs_data.csv[+29]', '23_02_19_aws_batchb_1_course_4_obs_data.csv[+28]', '23_02_19_desktop_batch1', 'Test']\n",
      "23_02_18_aws_batch7_3\n",
      "23_02_18_aws_batch8_0\n",
      "23_02_19_aws_batch1_0\n",
      "23_02_19_aws_batch2_0\n",
      "23_02_19_aws_batch2_5\n",
      "23_02_19_aws_batch3_0\n",
      "23_02_19_aws_batch3_5\n",
      "23_02_19_aws_batch4_0\n",
      "23_02_19_aws_batch4_5\n",
      "23_02_19_aws_batch5_0\n",
      "23_02_19_aws_batch5_4\n",
      "23_02_19_aws_batch6_0\n",
      "23_02_19_aws_batch7_0\n",
      "23_02_19_aws_batch7_4\n",
      "23_02_19_aws_batch8_0\n",
      "23_02_19_aws_batcha_0\n",
      "23_02_19_aws_batchb_0\n",
      "23_02_19_aws_batchb_1\n"
     ]
    }
   ],
   "source": [
    "\n",
    "fpath = \"C:/Users/Robert/Documents/Vis_network_data\"\n",
    "dog = [name for name in os.listdir(fpath) if os.path.isdir(os.path.join(fpath,name))]\n",
    "print(dog)\n",
    "for d in dog:\n",
    "    if \".csv[\" in d:\n",
    "        print(d[0:21])\n"
   ]
  },
  {
   "cell_type": "code",
   "execution_count": 2,
   "metadata": {},
   "outputs": [
    {
     "ename": "FileNotFoundError",
     "evalue": "[Errno 2] No such file or directory: 'C:/Users/Robert/git/visibility_NN/results_merge/23_02_18_and_19_merge.csv'",
     "output_type": "error",
     "traceback": [
      "\u001b[1;31m---------------------------------------------------------------------------\u001b[0m",
      "\u001b[1;31mFileNotFoundError\u001b[0m                         Traceback (most recent call last)",
      "\u001b[1;32mc:\\Users\\Robert\\git\\visibility_NN\\csv_reader_test.ipynb Cell 5\u001b[0m in \u001b[0;36m<cell line: 10>\u001b[1;34m()\u001b[0m\n\u001b[0;32m      <a href='vscode-notebook-cell:/c%3A/Users/Robert/git/visibility_NN/csv_reader_test.ipynb#Y102sZmlsZQ%3D%3D?line=7'>8</a>\u001b[0m         \u001b[39myield\u001b[39;00m row\n\u001b[0;32m      <a href='vscode-notebook-cell:/c%3A/Users/Robert/git/visibility_NN/csv_reader_test.ipynb#Y102sZmlsZQ%3D%3D?line=8'>9</a>\u001b[0m row_out \u001b[39m=\u001b[39m csv_reader(other_path)\n\u001b[1;32m---> <a href='vscode-notebook-cell:/c%3A/Users/Robert/git/visibility_NN/csv_reader_test.ipynb#Y102sZmlsZQ%3D%3D?line=9'>10</a>\u001b[0m \u001b[39mnext\u001b[39;49m(row_out)\n",
      "\u001b[1;32mc:\\Users\\Robert\\git\\visibility_NN\\csv_reader_test.ipynb Cell 5\u001b[0m in \u001b[0;36mcsv_reader\u001b[1;34m(fname)\u001b[0m\n\u001b[0;32m      <a href='vscode-notebook-cell:/c%3A/Users/Robert/git/visibility_NN/csv_reader_test.ipynb#Y102sZmlsZQ%3D%3D?line=5'>6</a>\u001b[0m \u001b[39mdef\u001b[39;00m \u001b[39mcsv_reader\u001b[39m(fname):\n\u001b[1;32m----> <a href='vscode-notebook-cell:/c%3A/Users/Robert/git/visibility_NN/csv_reader_test.ipynb#Y102sZmlsZQ%3D%3D?line=6'>7</a>\u001b[0m     \u001b[39mfor\u001b[39;00m row \u001b[39min\u001b[39;00m \u001b[39mopen\u001b[39;49m(fname):\n\u001b[0;32m      <a href='vscode-notebook-cell:/c%3A/Users/Robert/git/visibility_NN/csv_reader_test.ipynb#Y102sZmlsZQ%3D%3D?line=7'>8</a>\u001b[0m         \u001b[39myield\u001b[39;00m row\n",
      "\u001b[1;31mFileNotFoundError\u001b[0m: [Errno 2] No such file or directory: 'C:/Users/Robert/git/visibility_NN/results_merge/23_02_18_and_19_merge.csv'"
     ]
    }
   ],
   "source": [
    "# other_path = \"C:/Users/Robert/git/visibility_NN/results_merge/23_02_19/23_02_19_aws_batch1_0_merge.csv\"\n",
    "# other_path = \"C:/Users/Robert/git/visibility_NN/results_merge/23_02_18/23_02_18_aws_batch7_3_merge.csv\"\n",
    "# other_path = \"C:/Users/Robert/git/visibility_NN/results_merge/23_02_18_aws_batch7_3_merge.csv\"\n",
    "# other_path = \"C:/Users/Robert/git/visibility_NN/results_merge/23_02_18_and_19_merge.csv\"\n",
    "other_path = \"C:/Users/Robert/git/visibility_NN/results_merge/23_02_18_merge.csv\"\n",
    "\n",
    "def csv_reader(fname):\n",
    "    for row in open(fname):\n",
    "        yield row\n",
    "row_out = csv_reader(other_path)\n",
    "next(row_out)"
   ]
  },
  {
   "cell_type": "code",
   "execution_count": 23,
   "metadata": {},
   "outputs": [
    {
     "name": "stdout",
     "output_type": "stream",
     "text": [
      "85\n"
     ]
    }
   ],
   "source": [
    "test_line = '0.000000000000000000e+00,0.000000000000000000e+00,2.471766045285342628e+01,0.000000000000000000e+00,1.761143400387322444e+01,2.058283437354479162e+01,4.211609075739894514e+00,1.303232509941175721e+01,6.287770407209857026e+00,4.821068150007226549e+00,9.734355056284698549e+00,1.553505207296532120e+01,2.584219405343664455e+00,2.370766045285342472e+01,1.402276882508076561e+01,1.000000000000000000e+00,2.131309406839231713e+01,8.928998799901176397e+00,1.000000000000000000e+00,1.781097133576570357e+01,1.248463411367568554e+01,1.000000000000000000e+00,1.073520828140012284e+01,2.714123072866205888e+01,1.000000000000000000e+00,0.000000000000000000e+00,0.000000000000000000e+00,0.000000000000000000e+00,0.000000000000000000e+00,0.000000000000000000e+00,0.000000000000000000e+00,0.000000000000000000e+00,0.000000000000000000e+00,0.000000000000000000e+00,0.000000000000000000e+00,0.000000000000000000e+00,0.000000000000000000e+00,0.000000000000000000e+00,0.000000000000000000e+00,0.000000000000000000e+00,0.000000000000000000e+00,0.000000000000000000e+00,0.000000000000000000e+00,0.000000000000000000e+00,0.000000000000000000e+00,0.000000000000000000e+00,0.000000000000000000e+00,0.000000000000000000e+00,0.000000000000000000e+00,0.000000000000000000e+00,0.000000000000000000e+00,0.000000000000000000e+00,0.000000000000000000e+00,0.000000000000000000e+00,0.000000000000000000e+00,0.000000000000000000e+00,0.000000000000000000e+00,0.000000000000000000e+00,0.000000000000000000e+00,0.000000000000000000e+00,0.000000000000000000e+00,0.000000000000000000e+00,0.000000000000000000e+00,0.000000000000000000e+00,0.000000000000000000e+00,0.000000000000000000e+00,0.000000000000000000e+00,0.000000000000000000e+00,0.000000000000000000e+00,0.000000000000000000e+00,0.000000000000000000e+00,1.000000000000000000e+00,1.000000000000000000e+00,1.000000000000000000e+00,1.000000000000000000e+00,1.000000000000000000e+00,1.000000000000000000e+00,1.000000000000000000e+00,1.000000000000000000e+00,1.000000000000000000e+00,1.000000000000000000e+00,1.000000000000000000e+00,1.000000000000000000e+00,1.000000000000000000e+00,2.471766045285342628e+01'\n",
    "test_line_items = test_line.split(',')\n",
    "print(len(test_line_items))"
   ]
  },
  {
   "cell_type": "code",
   "execution_count": 1,
   "metadata": {},
   "outputs": [
    {
     "ename": "NameError",
     "evalue": "name 'csv_reader' is not defined",
     "output_type": "error",
     "traceback": [
      "\u001b[1;31m---------------------------------------------------------------------------\u001b[0m",
      "\u001b[1;31mNameError\u001b[0m                                 Traceback (most recent call last)",
      "\u001b[1;32mc:\\Users\\Robert\\git\\visibility_NN\\csv_reader_test.ipynb Cell 7\u001b[0m in \u001b[0;36m<cell line: 9>\u001b[1;34m()\u001b[0m\n\u001b[0;32m      <a href='vscode-notebook-cell:/c%3A/Users/Robert/git/visibility_NN/csv_reader_test.ipynb#Y111sZmlsZQ%3D%3D?line=5'>6</a>\u001b[0m         row_count \u001b[39m+\u001b[39m\u001b[39m=\u001b[39m \u001b[39m1\u001b[39m\n\u001b[0;32m      <a href='vscode-notebook-cell:/c%3A/Users/Robert/git/visibility_NN/csv_reader_test.ipynb#Y111sZmlsZQ%3D%3D?line=6'>7</a>\u001b[0m     \u001b[39mreturn\u001b[39;00m row_count\n\u001b[1;32m----> <a href='vscode-notebook-cell:/c%3A/Users/Robert/git/visibility_NN/csv_reader_test.ipynb#Y111sZmlsZQ%3D%3D?line=8'>9</a>\u001b[0m row_gen \u001b[39m=\u001b[39m csv_reader(other_path)\n\u001b[0;32m     <a href='vscode-notebook-cell:/c%3A/Users/Robert/git/visibility_NN/csv_reader_test.ipynb#Y111sZmlsZQ%3D%3D?line=9'>10</a>\u001b[0m row_count \u001b[39m=\u001b[39m row_counter(row_gen)\n\u001b[0;32m     <a href='vscode-notebook-cell:/c%3A/Users/Robert/git/visibility_NN/csv_reader_test.ipynb#Y111sZmlsZQ%3D%3D?line=11'>12</a>\u001b[0m \u001b[39mprint\u001b[39m(\u001b[39mf\u001b[39m\u001b[39m'\u001b[39m\u001b[39mnumber of rows = \u001b[39m\u001b[39m{\u001b[39;00mrow_count\u001b[39m}\u001b[39;00m\u001b[39m'\u001b[39m)\n",
      "\u001b[1;31mNameError\u001b[0m: name 'csv_reader' is not defined"
     ]
    }
   ],
   "source": [
    "counting_file = 'C:/Users/Robert/git/visibility_NN/results_merge/22_10_17_one_obstacle_data_merge.csv'\n",
    "\n",
    "def row_counter(data_gen):\n",
    "    row_count = 0\n",
    "    for row in data_gen:\n",
    "        row_count += 1\n",
    "    return row_count\n",
    "\n",
    "row_gen = csv_reader(other_path)\n",
    "row_count = row_counter(row_gen)\n",
    "\n",
    "print(f'number of rows = {row_count}')\n",
    "\n"
   ]
  },
  {
   "cell_type": "code",
   "execution_count": 21,
   "metadata": {},
   "outputs": [
    {
     "name": "stdout",
     "output_type": "stream",
     "text": [
      "nrows = 32447309\n"
     ]
    }
   ],
   "source": [
    "def data_check(data_gen,ncolumns):\n",
    "    '''expectes data generator to check if rows have 85 or not'''\n",
    "    valid_file = True\n",
    "    ii = 0\n",
    "    for row in data_gen:\n",
    "        ii += 1\n",
    "        tokens = row.split(',')\n",
    "        if len(tokens) != ncolumns:\n",
    "            valid_file = False\n",
    "            print(f'row {ii} is invalid with {len(tokens)} tokens')\n",
    "    print(f'nrows = {ii}')\n",
    "    return valid_file\n",
    "\n",
    "the_file = \"C:/Users/Robert/git/visibility_NN/results_merge/23_02_18_and_19_merge.csv\"\n",
    "\n",
    "d_gen = csv_reader(the_file)\n",
    "is_valid = data_check(d_gen,85)\n",
    "print(is_valid)\n",
    "\n",
    "    "
   ]
  }
 ],
 "metadata": {
  "kernelspec": {
   "display_name": "visibility_graph",
   "language": "python",
   "name": "python3"
  },
  "language_info": {
   "codemirror_mode": {
    "name": "ipython",
    "version": 3
   },
   "file_extension": ".py",
   "mimetype": "text/x-python",
   "name": "python",
   "nbconvert_exporter": "python",
   "pygments_lexer": "ipython3",
   "version": "3.9.13"
  },
  "orig_nbformat": 4,
  "vscode": {
   "interpreter": {
    "hash": "a4449e68fdfa72a39a76299b4d18c52e1ab7fd20642703db4079977f5fd4ea0a"
   }
  }
 },
 "nbformat": 4,
 "nbformat_minor": 2
}
