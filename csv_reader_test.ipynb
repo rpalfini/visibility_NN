{
 "cells": [
  {
   "cell_type": "code",
   "execution_count": 12,
   "metadata": {},
   "outputs": [
    {
     "name": "stdout",
     "output_type": "stream",
     "text": [
      "['23_02_19_aws_batchb_10_course_1_obs_data.csv', '23_02_19_aws_batchb_10_course_4_obs_data.csv', '23_02_19_aws_batchb_10_course_5_obs_data.csv', '23_02_19_aws_batchb_11_course_1_obs_data.csv', '23_02_19_aws_batchb_11_course_3_obs_data.csv', '23_02_19_aws_batchb_12_course_3_obs_data.csv', '23_02_19_aws_batchb_13_course_3_obs_data.csv', '23_02_19_aws_batchb_14_course_3_obs_data.csv', '23_02_19_aws_batchb_1_course_4_obs_data.csv', '23_02_19_aws_batchb_1_course_5_obs_data.csv', '23_02_19_aws_batchb_2_course_4_obs_data.csv', '23_02_19_aws_batchb_2_course_5_obs_data.csv', '23_02_19_aws_batchb_3_course_4_obs_data.csv', '23_02_19_aws_batchb_3_course_5_obs_data.csv', '23_02_19_aws_batchb_4_course_4_obs_data.csv', '23_02_19_aws_batchb_4_course_5_obs_data.csv', '23_02_19_aws_batchb_5_course_4_obs_data.csv', '23_02_19_aws_batchb_5_course_5_obs_data.csv', '23_02_19_aws_batchb_6_course_4_obs_data.csv', '23_02_19_aws_batchb_6_course_5_obs_data.csv', '23_02_19_aws_batchb_7_course_4_obs_data.csv', '23_02_19_aws_batchb_7_course_5_obs_data.csv', '23_02_19_aws_batchb_8_course_4_obs_data.csv', '23_02_19_aws_batchb_8_course_5_obs_data.csv', '23_02_19_aws_batchb_9_course_4_obs_data.csv', '23_02_19_aws_batchb_9_course_5_obs_data.csv']\n"
     ]
    },
    {
     "data": {
      "text/plain": [
       "26"
      ]
     },
     "execution_count": 12,
     "metadata": {},
     "output_type": "execute_result"
    }
   ],
   "source": [
    "import os\n",
    "import glob\n",
    "\n",
    "folder = '23_02_19_aws_batchb'\n",
    "base_path = 'C:/Users/Robert/Documents/Vis_network_data/'\n",
    "path = 'C:/Users/Robert/Documents/Vis_network_data/23_02_19_aws_batchb'\n",
    "extension = 'csv'\n",
    "os.chdir(path)\n",
    "result = glob.glob('*.{}'.format(extension))\n",
    "print(result)\n",
    "len(result)"
   ]
  },
  {
   "cell_type": "code",
   "execution_count": 13,
   "metadata": {},
   "outputs": [
    {
     "name": "stdout",
     "output_type": "stream",
     "text": [
      "Total lines: 1\n"
     ]
    }
   ],
   "source": [
    "file_path = \"C:/Users/Robert/git/visibility_NN/results_merge/22_10_17_one_obstacle_data_merge.csv\"\n",
    "\n",
    "def _count_generator(reader):\n",
    "    b = reader(1024 * 1024)\n",
    "    while b:\n",
    "        yield b\n",
    "        b = reader(1024 * 1024)\n",
    "\n",
    "with open(file_path, 'rb') as fp:\n",
    "    c_generator = _count_generator(fp.raw.read)\n",
    "    # count each /n\n",
    "    count = sum(buffer.count(b'/n') for buffer in c_generator)\n",
    "    print('Total lines:', count + 1)\n"
   ]
  },
  {
   "cell_type": "code",
   "execution_count": 14,
   "metadata": {},
   "outputs": [
    {
     "name": "stdout",
     "output_type": "stream",
     "text": [
      "tt_lines 0\n"
     ]
    }
   ],
   "source": [
    "total_total_lines = 0\n",
    "for fname in result:\n",
    "    path_name = path + \"/\" + fname\n",
    "    \n",
    "    with open(path_name, 'rb') as fp:\n",
    "        c_generator = _count_generator(fp.raw.read)\n",
    "        # count each /n\n",
    "        count2 = sum(buffer.count(b'/n') for buffer in c_generator)\n",
    "        # print('Total lines:', count + 1)\n",
    "    total_total_lines += count2\n",
    "print(\"tt_lines\",total_total_lines)"
   ]
  },
  {
   "cell_type": "code",
   "execution_count": 15,
   "metadata": {},
   "outputs": [
    {
     "name": "stdout",
     "output_type": "stream",
     "text": [
      "['22_10_17_one_obstacle_data', '23_02_18_aws_batch7_3_course_1_obs_data.csv[+21]', '23_02_18_aws_batch8_0_course_1_obs_data.csv[+30]', '23_02_18_batch2', '23_02_19_aws_batch1_0_course_1_obs_data.csv[+13]', '23_02_19_aws_batch2_0_course_1_obs_data.csv[+10]', '23_02_19_aws_batch2_5_course_2_obs_data.csv[+6]', '23_02_19_aws_batch3_0_course_1_obs_data.csv[+13]', '23_02_19_aws_batch3_5_course_2_obs_data.csv[+7]', '23_02_19_aws_batch4_0_course_1_obs_data.csv[+13]', '23_02_19_aws_batch4_5_course_2_obs_data.csv[+6]', '23_02_19_aws_batch5_0_course_1_obs_data.csv[+12]', '23_02_19_aws_batch5_4_course_2_obs_data.csv[+8]', '23_02_19_aws_batch6_0_course_1_obs_data.csv[+9]', '23_02_19_aws_batch7_0_course_1_obs_data.csv[+12]', '23_02_19_aws_batch7_4_course_2_obs_data.csv[+8]', '23_02_19_aws_batch8_0_course_1_obs_data.csv[+12]', '23_02_19_aws_batcha_0_course_1_obs_data.csv[+28]', '23_02_19_aws_batchb', '23_02_19_aws_batchb_0_course_1_obs_data.csv[+29]', '23_02_19_aws_batchb_1_course_4_obs_data.csv[+28]', '23_02_19_desktop_batch1', 'Test']\n",
      "23_02_18_aws_batch7_3\n",
      "23_02_18_aws_batch8_0\n",
      "23_02_19_aws_batch1_0\n",
      "23_02_19_aws_batch2_0\n",
      "23_02_19_aws_batch2_5\n",
      "23_02_19_aws_batch3_0\n",
      "23_02_19_aws_batch3_5\n",
      "23_02_19_aws_batch4_0\n",
      "23_02_19_aws_batch4_5\n",
      "23_02_19_aws_batch5_0\n",
      "23_02_19_aws_batch5_4\n",
      "23_02_19_aws_batch6_0\n",
      "23_02_19_aws_batch7_0\n",
      "23_02_19_aws_batch7_4\n",
      "23_02_19_aws_batch8_0\n",
      "23_02_19_aws_batcha_0\n",
      "23_02_19_aws_batchb_0\n",
      "23_02_19_aws_batchb_1\n"
     ]
    }
   ],
   "source": [
    "\n",
    "fpath = \"C:/Users/Robert/Documents/Vis_network_data\"\n",
    "dog = [name for name in os.listdir(fpath) if os.path.isdir(os.path.join(fpath,name))]\n",
    "print(dog)\n",
    "for d in dog:\n",
    "    if \".csv[\" in d:\n",
    "        print(d[0:21])\n"
   ]
  },
  {
   "cell_type": "code",
   "execution_count": 16,
   "metadata": {},
   "outputs": [
    {
     "data": {
      "text/plain": [
       "'0.0,0.0,26.648819470370167,0.0,16.273699456505614,23.221369162921548,1.6788393453475583,10.857663113410087,9.820216380723874,2.376913910584751,19.15322380976505,16.628425491349105,2.914591335958061,20.106099034563645,4.530064357581497,4.027591610408261,10.470368188093214,15.52083604480064,1.2068540722466672,11.697677841978136,20.77980247406274,1.0,7.179826442151695,21.712424564215027,1.0,23.11934386291558,22.42837328039059,1.0,23.963229205555248,10.591172089661784,1.0,9.477849729375848,3.560721963624596,0.6817666399056416,9.766762449833408,25.68111545540389,1.570970394528421,0.0,0.0,0.0,0.0,0.0,0.0,0.0,0.0,0.0,0.0,0.0,0.0,0.0,0.0,0.0,0.0,0.0,0.0,0.0,0.0,0.0,0.0,0.0,0.0,0.0,0.0,0.0,0.0,0.0,0.0,0.0,0.0,0.0,0.0,0.0,0.0,0.0,0.0,1.0,1.0,1.0,1.0,1.0,1.0,1.0,1.0,1.0,26.648819470370167\\n'"
      ]
     },
     "execution_count": 16,
     "metadata": {},
     "output_type": "execute_result"
    }
   ],
   "source": [
    "# other_path = \"C:/Users/Robert/git/visibility_NN/results_merge/23_02_19/23_02_19_aws_batch1_0_merge.csv\"\n",
    "# other_path = \"C:/Users/Robert/git/visibility_NN/results_merge/23_02_18/23_02_18_aws_batch7_3_merge.csv\"\n",
    "# other_path = \"C:/Users/Robert/git/visibility_NN/results_merge/23_02_18_aws_batch7_3_merge.csv\"\n",
    "other_path = \"C:/Users/Robert/git/visibility_NN/results_merge/23_02_18_and_19_merge.csv\"\n",
    "\n",
    "def csv_reader(fname):\n",
    "    for row in open(fname):\n",
    "        yield row\n",
    "row_out = csv_reader(other_path)\n",
    "next(row_out)"
   ]
  },
  {
   "cell_type": "code",
   "execution_count": 17,
   "metadata": {},
   "outputs": [
    {
     "name": "stdout",
     "output_type": "stream",
     "text": [
      "85\n"
     ]
    }
   ],
   "source": [
    "test_line = '0.000000000000000000e+00,0.000000000000000000e+00,2.493711343824226745e+01,0.000000000000000000e+00,1.357282303910353427e+01,1.203148240783385781e+01,4.806655642597053024e+00,1.787338463974414893e+01,2.387161363168353034e+01,2.191708726573404764e+00,1.158186294137655636e+01,2.244403152584633432e+01,1.000000000000000000e+00,2.261402062139028857e+01,8.583233344767158712e+00,1.000000000000000000e+00,2.257070900882904496e+01,1.712732158165420060e+01,1.000000000000000000e+00,6.173852041761060505e+00,2.511200744260970552e+01,1.000000000000000000e+00,7.919438755428586774e+00,1.936292752117909544e+01,1.556356692832992827e+00,1.892817927067098793e+01,5.907385618621233903e+00,1.000000000000000000e+00,1.304309969127265134e+01,2.071549538285450964e+00,1.000000000000000000e+00,7.321595613423079740e+00,7.185907370510001613e+00,1.000000000000000000e+00,1.784943156277916643e+01,1.864614031697821162e+01,1.000000000000000000e+00,2.374082122746201762e+01,1.276396366573278662e+01,1.000000000000000000e+00,1.769468314971395984e+01,1.142434832690920388e+00,5.999749537901166718e-01,2.222383322303042519e+01,2.792271607008170520e+01,1.000000000000000000e+00,1.350354132413021802e+01,2.694867845713828558e+01,8.011208937088198923e-01,2.392711343824226589e+01,3.671783106051201173e+00,1.000000000000000000e+00,2.316168980961466772e+01,2.181317647177706220e+01,1.000000000000000000e+00,9.049843315346647543e+00,2.814161514416102960e+01,1.000000000000000000e+00,7.505146015552439209e+00,3.081233572175889890e+00,1.000000000000000000e+00,6.022541690946290771e+00,1.068516677176187102e+01,5.669034701391058029e-01,0.000000000000000000e+00,0.000000000000000000e+00,0.000000000000000000e+00,0.000000000000000000e+00,0.000000000000000000e+00,0.000000000000000000e+00,0.000000000000000000e+00,0.000000000000000000e+00,0.000000000000000000e+00,0.000000000000000000e+00,0.000000000000000000e+00,0.000000000000000000e+00,0.000000000000000000e+00,0.000000000000000000e+00,0.000000000000000000e+00,0.000000000000000000e+00,0.000000000000000000e+00,0.000000000000000000e+00,0.000000000000000000e+00,0.000000000000000000e+00,2.493711343824226745e+01'\n",
    "test_line_items = test_line.split(',')\n",
    "print(len(test_line_items))"
   ]
  },
  {
   "cell_type": "code",
   "execution_count": 22,
   "metadata": {},
   "outputs": [
    {
     "name": "stdout",
     "output_type": "stream",
     "text": [
      "number of rows = 32447309\n"
     ]
    }
   ],
   "source": [
    "counting_file = 'C:/Users/Robert/git/visibility_NN/results_merge/22_10_17_one_obstacle_data_merge.csv'\n",
    "\n",
    "def row_counter(data_gen):\n",
    "    row_count = 0\n",
    "    for row in data_gen:\n",
    "        row_count += 1\n",
    "    return row_count\n",
    "\n",
    "row_gen = csv_reader(other_path)\n",
    "row_count = row_counter(row_gen)\n",
    "\n",
    "print(f'number of rows = {row_count}')\n",
    "\n"
   ]
  },
  {
   "cell_type": "code",
   "execution_count": 21,
   "metadata": {},
   "outputs": [
    {
     "name": "stdout",
     "output_type": "stream",
     "text": [
      "nrows = 32447309\n"
     ]
    }
   ],
   "source": [
    "def data_check(data_gen,ncolumns):\n",
    "    '''expectes data generator to check if rows have 85 or not'''\n",
    "    valid_file = True\n",
    "    ii = 0\n",
    "    for row in data_gen:\n",
    "        ii += 1\n",
    "        tokens = row.split(',')\n",
    "        if len(tokens) != ncolumns:\n",
    "            valid_file = False\n",
    "            print(f'row {ii} is invalid with {len(tokens)} tokens')\n",
    "    print(f'nrows = {ii}')\n",
    "    return valid_file\n",
    "\n",
    "the_file = \"C:/Users/Robert/git/visibility_NN/results_merge/23_02_18_and_19_merge.csv\"\n",
    "\n",
    "d_gen = csv_reader(the_file)\n",
    "is_valid = data_check(d_gen,85)\n",
    "print(is_valid)\n",
    "\n",
    "    "
   ]
  }
 ],
 "metadata": {
  "kernelspec": {
   "display_name": "visibility_graph",
   "language": "python",
   "name": "python3"
  },
  "language_info": {
   "codemirror_mode": {
    "name": "ipython",
    "version": 3
   },
   "file_extension": ".py",
   "mimetype": "text/x-python",
   "name": "python",
   "nbconvert_exporter": "python",
   "pygments_lexer": "ipython3",
   "version": "3.9.13"
  },
  "orig_nbformat": 4,
  "vscode": {
   "interpreter": {
    "hash": "a4449e68fdfa72a39a76299b4d18c52e1ab7fd20642703db4079977f5fd4ea0a"
   }
  }
 },
 "nbformat": 4,
 "nbformat_minor": 2
}
