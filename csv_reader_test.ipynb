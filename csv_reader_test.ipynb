{
 "cells": [
  {
   "cell_type": "code",
   "execution_count": null,
   "metadata": {},
   "outputs": [],
   "source": [
    "import os\n",
    "import glob\n",
    "\n",
    "folder = '23_02_19_aws_batchb'\n",
    "base_path = 'C:/Users/Robert/Documents/Vis_network_data/'\n",
    "path = 'C:/Users/Robert/Documents/Vis_network_data/23_02_19_aws_batchb'\n",
    "extension = 'csv'\n",
    "os.chdir(path)\n",
    "result = glob.glob('*.{}'.format(extension))\n",
    "print(result)\n",
    "len(result)"
   ]
  },
  {
   "cell_type": "code",
   "execution_count": null,
   "metadata": {},
   "outputs": [],
   "source": [
    "file_path = \"C:/Users/Robert/git/visibility_NN/results_merge/23_02_19_aws_batchb_merge.csv\"\n",
    "\n",
    "def _count_generator(reader):\n",
    "    b = reader(1024 * 1024)\n",
    "    while b:\n",
    "        yield b\n",
    "        b = reader(1024 * 1024)\n",
    "\n",
    "with open(file_path, 'rb') as fp:\n",
    "    c_generator = _count_generator(fp.raw.read)\n",
    "    # count each /n\n",
    "    count = sum(buffer.count(b'/n') for buffer in c_generator)\n",
    "    print('Total lines:', count + 1)\n"
   ]
  },
  {
   "cell_type": "code",
   "execution_count": null,
   "metadata": {},
   "outputs": [],
   "source": [
    "total_total_lines = 0\n",
    "for fname in result:\n",
    "    path_name = path + \"/\" + fname\n",
    "    \n",
    "    with open(path_name, 'rb') as fp:\n",
    "        c_generator = _count_generator(fp.raw.read)\n",
    "        # count each /n\n",
    "        count2 = sum(buffer.count(b'/n') for buffer in c_generator)\n",
    "        # print('Total lines:', count + 1)\n",
    "    total_total_lines += count2\n",
    "print(\"tt_lines\",total_total_lines)"
   ]
  },
  {
   "cell_type": "code",
   "execution_count": null,
   "metadata": {},
   "outputs": [],
   "source": [
    "\n",
    "fpath = \"C:/Users/Robert/Documents/Vis_network_data\"\n",
    "dog = [name for name in os.listdir(fpath) if os.path.isdir(os.path.join(fpath,name))]\n",
    "print(dog)\n",
    "for d in dog:\n",
    "    if \".csv[\" in d:\n",
    "        print(d[0:21])\n"
   ]
  },
  {
   "cell_type": "code",
   "execution_count": 1,
   "metadata": {},
   "outputs": [
    {
     "data": {
      "text/plain": [
       "'0.0,0.0,26.09028938209853,0.0,16.273699456505614,23.221369162921548,1.6788393453475583,10.857663113410087,9.820216380723874,2.376913910584751,19.15322380976505,16.628425491349105,2.914591335958061,20.106099034563645,4.530064357581497,4.027591610408261,10.470368188093214,15.52083604480064,1.2068540722466672,11.697677841978136,20.77980247406274,1.0,7.179826442151695,21.712424564215027,1.0,23.11934386291558,22.42837328039059,1.0,23.963229205555248,10.591172089661784,1.0,9.477849729375848,3.560721963624596,0.6817666399056416,9.766762449833408,25.68111545540389,1.570970394528421,0.0,0.0,0.0,0.0,0.0,0.0,0.0,0.0,0.0,0.0,0.0,0.0,0.0,0.0,0.0,0.0,0.0,0.0,0.0,0.0,0.0,0.0,0.0,0.0,0.0,0.0,0.0,0.0,0.0,0.0,0.0,0.0,0.0,0.0,0.0,0.0,0.0,0.0,1.0,1.0,1.0,1.0,1.0,1.0,1.0,1.0,1.0,26.09028938209853\\n'"
      ]
     },
     "execution_count": 1,
     "metadata": {},
     "output_type": "execute_result"
    }
   ],
   "source": [
    "# other_path = \"C:/Users/Robert/git/visibility_NN/results_merge/23_02_19/23_02_19_aws_batch1_0_merge.csv\"\n",
    "# other_path = \"C:/Users/Robert/git/visibility_NN/results_merge/23_02_18/23_02_18_aws_batch7_3_merge.csv\"\n",
    "# other_path = \"C:/Users/Robert/git/visibility_NN/results_merge/23_02_18_aws_batch7_3_merge.csv\"\n",
    "other_path = \"C:/Users/Robert/git/visibility_NN/results_merge/23_02_18_merge.csv\"\n",
    "\n",
    "def csv_reader(fname):\n",
    "    for row in open(fname):\n",
    "        yield row\n",
    "row_out = csv_reader(other_path)\n",
    "next(row_out)"
   ]
  }
 ],
 "metadata": {
  "kernelspec": {
   "display_name": "visibility_graph",
   "language": "python",
   "name": "python3"
  },
  "language_info": {
   "codemirror_mode": {
    "name": "ipython",
    "version": 3
   },
   "file_extension": ".py",
   "mimetype": "text/x-python",
   "name": "python",
   "nbconvert_exporter": "python",
   "pygments_lexer": "ipython3",
   "version": "3.9.13"
  },
  "orig_nbformat": 4,
  "vscode": {
   "interpreter": {
    "hash": "a4449e68fdfa72a39a76299b4d18c52e1ab7fd20642703db4079977f5fd4ea0a"
   }
  }
 },
 "nbformat": 4,
 "nbformat_minor": 2
}
