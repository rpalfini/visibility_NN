{
 "cells": [
  {
   "cell_type": "code",
   "execution_count": 2,
   "metadata": {},
   "outputs": [],
   "source": [
    "import os\n",
    "from argparse import ArgumentParser, ArgumentDefaultsHelpFormatter\n",
    "import numpy as np\n",
    "import csv_file_combiner as cfc\n",
    "from ML_code import util\n",
    "import save_csv_to_numpy as scn"
   ]
  },
  {
   "cell_type": "code",
   "execution_count": 3,
   "metadata": {},
   "outputs": [
    {
     "name": "stdout",
     "output_type": "stream",
     "text": [
      "Loading csv data from D:/Vis_network_data/data_file_by_course\\main_data_file_courses20.csv\n",
      "saving data to D:/Vis_network_data/data_file_by_course\\main_data_file_courses20.npy.\n"
     ]
    }
   ],
   "source": [
    "# save_path = \"E:/main_folder/npy_to_be_added_by_course\"\n",
    "# file_dir = \"E:/main_folder/to_be_added_by_course\"\n",
    "\n",
    "save_path = \"D:/Vis_network_data/data_file_by_course\"\n",
    "file_dir = \"D:/Vis_network_data/data_file_by_course\"\n",
    "fname = \"main_data_file_courses20.csv\"\n",
    "\n",
    "scn.load_and_save(save_path,file_dir,fname)\n"
   ]
  },
  {
   "cell_type": "code",
   "execution_count": 13,
   "metadata": {},
   "outputs": [
    {
     "name": "stdout",
     "output_type": "stream",
     "text": [
      "Loading csv data from D:/Vis_network_data/data_file_by_course/main_data_file_courses20.csv\n"
     ]
    },
    {
     "data": {
      "text/plain": [
       "(15845296, 85)"
      ]
     },
     "execution_count": 13,
     "metadata": {},
     "output_type": "execute_result"
    }
   ],
   "source": [
    "csv_data = util.load_data(\"D:/Vis_network_data/data_file_by_course/main_data_file_courses20.csv\")\n",
    "csv_data.shape"
   ]
  },
  {
   "cell_type": "code",
   "execution_count": 4,
   "metadata": {},
   "outputs": [
    {
     "name": "stdout",
     "output_type": "stream",
     "text": [
      "Loading np data from D:/Vis_network_data/data_file_by_course/main_data_file_courses20.npy\n"
     ]
    }
   ],
   "source": [
    "data = util.load_data(\"D:/Vis_network_data/data_file_by_course/main_data_file_courses20.npy\")"
   ]
  },
  {
   "cell_type": "code",
   "execution_count": 14,
   "metadata": {},
   "outputs": [
    {
     "name": "stdout",
     "output_type": "stream",
     "text": [
      "(15845296, 85)\n",
      "length of test data in file used during training 792264.8\n"
     ]
    }
   ],
   "source": [
    "print(data.shape)\n",
    "print(f'length of test data in file used during training {0.05*data.shape[0]}')\n"
   ]
  },
  {
   "cell_type": "code",
   "execution_count": 6,
   "metadata": {},
   "outputs": [
    {
     "name": "stdout",
     "output_type": "stream",
     "text": [
      "Loading np data from E:/main_folder/npy_to_be_added_by_course/main_data_file_courses20.npy\n"
     ]
    },
    {
     "data": {
      "text/plain": [
       "(1849692, 85)"
      ]
     },
     "execution_count": 6,
     "metadata": {},
     "output_type": "execute_result"
    }
   ],
   "source": [
    "data2 = util.load_data(\"E:/main_folder/npy_to_be_added_by_course/main_data_file_courses20.npy\")\n",
    "data2.shape"
   ]
  },
  {
   "cell_type": "code",
   "execution_count": 8,
   "metadata": {},
   "outputs": [
    {
     "name": "stdout",
     "output_type": "stream",
     "text": [
      "[ 0.          0.         24.86597013  0.          8.31354471 24.41026072\n",
      "  1.00639432 17.79753882  7.49195398  5.97681176  8.05528237  7.27411273\n",
      "  1.89408161 18.80295422 23.86360827  5.73290746  9.69319608 15.05649885\n",
      "  2.38274461 10.50758986  4.44075425  0.82317646 11.12751453 19.2551372\n",
      "  0.94433878 24.32758821 16.34978512  0.52838192  7.15035563 27.54001147\n",
      "  0.67445669  6.88406566 19.46026387  1.69548185 21.38590605 16.12608853\n",
      "  1.02810876 11.12932229 25.3525947   0.89302873  6.29913353 10.31864289\n",
      "  0.59311281 23.88738569 13.64921247  0.56355621  8.17321626  0.81510716\n",
      "  0.75561488 15.7654275  15.95047292  0.81176285  5.73511684  2.36870282\n",
      "  0.68569953 11.08001029  0.8913385   0.70341264 12.11800725 28.60692902\n",
      "  0.87667634  9.76316109 29.09438268  0.51954084]\n",
      "[ 0.          0.          0.          0.          0.          0.\n",
      "  0.          0.          0.          0.          0.          0.\n",
      "  0.          0.          0.          0.          0.          0.\n",
      "  0.          0.         24.86597013]\n"
     ]
    }
   ],
   "source": [
    "print(data2[0,0:64])\n",
    "print(data2[0,64:])"
   ]
  },
  {
   "cell_type": "code",
   "execution_count": null,
   "metadata": {},
   "outputs": [],
   "source": [
    "print(data2[0,0:64])\n",
    "print(data2[0,64:])"
   ]
  },
  {
   "cell_type": "code",
   "execution_count": 15,
   "metadata": {},
   "outputs": [
    {
     "name": "stdout",
     "output_type": "stream",
     "text": [
      "5\n",
      "4\n",
      "3\n",
      "2\n",
      "1\n"
     ]
    }
   ],
   "source": [
    "my_array = [1, 2, 3, 4, 5]\n",
    "\n",
    "# Iterate from the last value to the first value\n",
    "for i in range(len(my_array) - 1, -1, -1):\n",
    "    print(my_array[i])"
   ]
  }
 ],
 "metadata": {
  "kernelspec": {
   "display_name": "nn_vis_gpu",
   "language": "python",
   "name": "python3"
  },
  "language_info": {
   "codemirror_mode": {
    "name": "ipython",
    "version": 3
   },
   "file_extension": ".py",
   "mimetype": "text/x-python",
   "name": "python",
   "nbconvert_exporter": "python",
   "pygments_lexer": "ipython3",
   "version": "3.9.13"
  }
 },
 "nbformat": 4,
 "nbformat_minor": 2
}
