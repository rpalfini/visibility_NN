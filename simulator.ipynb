{
 "cells": [
  {
   "cell_type": "code",
   "execution_count": null,
   "metadata": {},
   "outputs": [],
   "source": [
    "import vis_main\n",
    "import pickle\n",
    "\n",
    "obs_file = \"1_courses_10_obstacles_normal.txt\"\n",
    "\n",
    "with open('default_args.pickle', 'rb') as f:\n",
    "    args = pickle.load('default_args.pickle')\n",
    "\n",
    "args[\"fname\"] = obs_file\n",
    "\n",
    "vg_gen = vis_main.main(args)"
   ]
  }
 ],
 "metadata": {
  "kernelspec": {
   "display_name": "vis_graph_scipy",
   "language": "python",
   "name": "python3"
  },
  "language_info": {
   "name": "python",
   "version": "3.9.13"
  },
  "orig_nbformat": 4
 },
 "nbformat": 4,
 "nbformat_minor": 2
}
