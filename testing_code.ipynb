{
 "cells": [
  {
   "cell_type": "code",
   "execution_count": null,
   "metadata": {},
   "outputs": [],
   "source": [
    "import pandas as pd\n",
    "import numpy as np\n",
    "\n",
    "df = pd.DataFrame(columns = ['start','end'])\n",
    "print(df)\n",
    "axis_num = 0\n",
    "#df = df.append({'start': (2,2), 'end' : (5,5)},ignore_index = True)\n",
    "tempdf = pd.DataFrame({'start': (2,2), 'end' : (5,5)})\n",
    "print(tempdf)\n",
    "df = pd.concat([df,tempdf],axis = axis_num,ignore_index = True)\n",
    "print(df)\n",
    "\n",
    "temp2df = pd.DataFrame({'start' : (3,9),'end':(23,9)})\n",
    "df = pd.concat([df,temp2df],axis = axis_num, ignore_index = True)\n",
    "print(df)\n"
   ]
  },
  {
   "cell_type": "code",
   "execution_count": null,
   "metadata": {},
   "outputs": [],
   "source": [
    "dog = [(1,2),(3,4),(5,6)]\n",
    "print(dog)\n",
    "for doggy in dog:\n",
    "    print(doggy)\n",
    "\n",
    "cats = [1]\n",
    "for cat in cats:\n",
    "    print(cat)\n",
    "\n",
    "\n"
   ]
  },
  {
   "cell_type": "code",
   "execution_count": null,
   "metadata": {},
   "outputs": [],
   "source": [
    "import numpy as np\n",
    "import matplotlib.pyplot as plt\n",
    "\n",
    "r = 4\n",
    "center = [2,3]\n",
    "thetas = np.linspace(0,2*np.pi,100)\n",
    "bound_x = r*np.cos(thetas) + center[0]\n",
    "bound_y = r*np.sin(thetas) + center[1]\n",
    "\n",
    "fig, axs = plt.subplots(1,1)\n",
    "axs.plot(bound_x,bound_y)\n",
    "# axs.set_title(None)\n",
    "plt.show()\n"
   ]
  },
  {
   "cell_type": "code",
   "execution_count": null,
   "metadata": {},
   "outputs": [],
   "source": [
    "import numpy as np\n",
    "import matplotlib.pyplot as plt\n",
    "\n",
    "xy_list = [(1,1),(3,3),(4,7)]\n",
    "fig, axs = plt.subplots(1,1)\n",
    "print(xy_list)\n",
    "axs.plot(*zip(*xy_list))\n",
    "# axs.set_title(None)\n",
    "plt.show()"
   ]
  },
  {
   "cell_type": "code",
   "execution_count": null,
   "metadata": {},
   "outputs": [],
   "source": [
    "start = (3,9)\n",
    "print(start)\n",
    "start = (5,10)\n",
    "print(start[1])\n",
    "print(start)"
   ]
  },
  {
   "cell_type": "code",
   "execution_count": null,
   "metadata": {},
   "outputs": [],
   "source": [
    "dog = 1\n",
    "print(dog)\n",
    "dog = (1, 2)\n",
    "print(dog)\n",
    "\n",
    "cat = ()\n",
    "print(cat)"
   ]
  },
  {
   "cell_type": "code",
   "execution_count": null,
   "metadata": {},
   "outputs": [],
   "source": [
    "from visibility_graph import *\n",
    "\n",
    "G = {\"start\": 9, \"end\": 2, 0:5, 1: 2, 2: 3}\n",
    "print(len(G))\n",
    "print(G)\n",
    "for key in G:\n",
    "    print(key)\n",
    "    print(G[key])\n",
    "\n",
    "D = {}\n",
    "print(len(D))"
   ]
  },
  {
   "cell_type": "code",
   "execution_count": null,
   "metadata": {},
   "outputs": [],
   "source": [
    "dog = {}\n",
    "print(len(dog))\n",
    "dog['start'] = 5\n",
    "print(len(dog))\n",
    "dog[1] = 'one'\n",
    "print(len(dog))\n",
    "dog[0] = 'zero'\n",
    "print(len(dog))\n",
    "\n",
    "for key in dog:\n",
    "    print(key)\n",
    "\n",
    "print(dog)"
   ]
  },
  {
   "cell_type": "code",
   "execution_count": null,
   "metadata": {},
   "outputs": [],
   "source": [
    "from collections import defaultdict\n",
    "\n",
    "def build_graph():\n",
    "    edges = [\n",
    "        [\"A\", \"B\"], [\"A\", \"E\"],\n",
    "        [\"A\", \"C\"], [\"B\", \"D\"],\n",
    "        [\"B\", \"E\"], [\"C\", \"F\"],\n",
    "        [\"C\", \"G\"], [\"D\", \"E\"]\n",
    "    ]\n",
    "    graph = defaultdict(list)\n",
    "     \n",
    "    # Loop to iterate over every\n",
    "    # edge of the graph\n",
    "    for edge in edges:\n",
    "        a, b = edge[0], edge[1]\n",
    "         \n",
    "        # Creating the graph\n",
    "        # as adjacency list\n",
    "        graph[a].append(b)\n",
    "        graph[b].append(a)\n",
    "    return graph\n",
    " \n",
    "graph = build_graph()\n",
    "print(graph)\n",
    "graph[\"R\"]"
   ]
  },
  {
   "cell_type": "code",
   "execution_count": null,
   "metadata": {},
   "outputs": [],
   "source": [
    "from dijkstra import *\n",
    "\n",
    "G = {}\n",
    "start = 0\n",
    "\n",
    "Dijkstra(G,start)\n",
    "\n"
   ]
  },
  {
   "cell_type": "code",
   "execution_count": null,
   "metadata": {},
   "outputs": [],
   "source": [
    "import numpy as np\n",
    "\n",
    "x = np.pi/2\n",
    "y = np.sin(x)\n",
    "print(x)\n",
    "print(y)"
   ]
  },
  {
   "cell_type": "code",
   "execution_count": null,
   "metadata": {},
   "outputs": [],
   "source": [
    "from visibility_graph import *\n",
    "# example of how graph and edges work for two nodes\n",
    "point1 = point((3,4))\n",
    "point2 = point((2.59234,5.454322))\n",
    "print(point2.coord_key())\n",
    "\n",
    "edge_graph = {}\n",
    "graph_dict = {}\n",
    "graph_dict[0] = point1.coord_key()\n",
    "edge_graph[0] = {}\n",
    "graph_dict[1] = point2.coord_key()\n",
    "edge_graph[1] = {}\n",
    "\n",
    "edge_graph[0][1] = 5\n",
    "edge_graph[1][0] = 6\n",
    "\n",
    "\n",
    "print(graph_dict)\n",
    "print(edge_graph)"
   ]
  },
  {
   "cell_type": "code",
   "execution_count": null,
   "metadata": {},
   "outputs": [],
   "source": [
    "from visibility_graph import *\n",
    "from bidict import bidict\n",
    "\n",
    "point1 = point((3,4))\n",
    "point2 = point((2.59234,5.454322))\n",
    "\n",
    "node_dict = bidict({})\n",
    "node_dict['start'] = point1.coord_key()\n",
    "node_dict['end'] = point2.coord_key()\n",
    "\n",
    "print(node_dict['start'])\n",
    "print(node_dict.inverse[point1.coord_key()])\n",
    "print(node_dict.inverse[point2.coord_key()])\n",
    "# print(node_dict.inverse[(15,25)])\n",
    "(3,4) in node_dict.inverse\n",
    "\n",
    "(14,22) in node_dict.inverse\n",
    "\n",
    "len(node_dict)\n",
    "print(node_dict)\n"
   ]
  },
  {
   "cell_type": "code",
   "execution_count": null,
   "metadata": {},
   "outputs": [],
   "source": [
    "x = True\n",
    "y = False\n",
    "if x is True:\n",
    "    print('cat')\n",
    "\n",
    "if y is False:\n",
    "    print('dog')"
   ]
  },
  {
   "cell_type": "code",
   "execution_count": null,
   "metadata": {},
   "outputs": [],
   "source": [
    "\n",
    "\n",
    "\n",
    "dict2 = {0:1, 1:2}\n",
    "\n",
    "append_dict(dict2,3)\n",
    "\n",
    "print(dict2)"
   ]
  },
  {
   "cell_type": "code",
   "execution_count": null,
   "metadata": {},
   "outputs": [],
   "source": [
    "\n",
    "X = [\"a\", \"b\", \"c\", \"d\", \"e\", \"f\", \"g\", \"h\", \"i\"]\n",
    "Y = [ 0,   1,   1,   0,   1,   2,   2,   0,   1 ]\n",
    "G = zip(X,Y)\n",
    "print(list(G))\n",
    "H = zip(Y,X)\n",
    "print(list(H))\n",
    "D = sorted(zip(X,Y))\n",
    "print(D)\n",
    "D = sorted(zip(Y,X))\n",
    "print(D)\n",
    "D = sorted(Y)\n",
    "print(D)\n",
    "Z = [x for _,x in sorted(zip(Y,X))]\n",
    "print(Z)\n",
    "\n",
    "Z = [x for _, x in sorted(zip(Y, X), key=lambda pair: pair[0])]\n",
    "print(Z)\n",
    "\n",
    "Z = [(y,x) for y,x in sorted(zip(Y,X), key=lambda pair: pair[0])]\n",
    "print(Z)\n",
    "\n",
    "\n",
    "a,b = zip(*sorted(zip(Y,X), key=lambda pair: pair[0]))\n",
    "# R = sorted(zip(Y,X), key=lambda pair: pair[0])\n",
    "# print(*R)\n",
    "# a,b = zip(*R)\n",
    "print(a)\n",
    "print(b)\n",
    "\n",
    "dog = enumerate(b)\n",
    "print(list(dog))\n",
    "print(b[1])"
   ]
  },
  {
   "cell_type": "code",
   "execution_count": null,
   "metadata": {},
   "outputs": [],
   "source": [
    "zipped = [(\"a\", 1), (\"b\", 2)]\n",
    "unzipped_object = zip(*zipped)\n",
    "print(*zipped)\n",
    "unzipped_list = list(unzipped_object)\n",
    "print(unzipped_list)"
   ]
  },
  {
   "cell_type": "code",
   "execution_count": null,
   "metadata": {},
   "outputs": [],
   "source": [
    "from visibility_graph import *\n",
    "\n",
    "radius1 = 5\n",
    "obst_locations = [[12,10],[11,4],[19,16],[8,15],[6,7],[24,6],[18,9],[24,13]]\n",
    "obst_list = init_obs(obst_locations,radius1)\n",
    "\n",
    "g = enumerate(obst_list)\n",
    "print(list(g))"
   ]
  },
  {
   "cell_type": "code",
   "execution_count": null,
   "metadata": {},
   "outputs": [],
   "source": [
    "a = [1,3,5,6,7]\n",
    "b = enumerate(a)\n",
    "print(list(b))"
   ]
  },
  {
   "cell_type": "code",
   "execution_count": null,
   "metadata": {},
   "outputs": [],
   "source": [
    "languages = ['Python', 'Java', 'C++', 'Ruby', 'C']\n",
    "\n",
    "# remove and return the last item\n",
    "print('When index is not passed:') \n",
    "del languages[1:]\n",
    "print(languages)"
   ]
  },
  {
   "cell_type": "code",
   "execution_count": null,
   "metadata": {},
   "outputs": [],
   "source": [
    "d = 5\n",
    "c = 4\n",
    "a = []\n",
    "a.append(d)\n",
    "a.append(c)\n",
    "c = 6\n",
    "print(a[1])"
   ]
  },
  {
   "cell_type": "code",
   "execution_count": null,
   "metadata": {},
   "outputs": [],
   "source": [
    "t = ('string 1', 1234.55555, 5.66666, 'string2')\n",
    "t2 = tuple(map(lambda x: isinstance(x, float) and round(x, 2) or x, t))\n",
    "print(t2)\n"
   ]
  },
  {
   "cell_type": "code",
   "execution_count": null,
   "metadata": {},
   "outputs": [],
   "source": [
    "dog = 3.3343434\n",
    "# dog = 'person'\n",
    "print(isinstance(dog,float) and round(dog,2))\n",
    "if dog:\n",
    "    print('cat')\n"
   ]
  },
  {
   "cell_type": "code",
   "execution_count": 3,
   "metadata": {},
   "outputs": [
    {
     "name": "stdout",
     "output_type": "stream",
     "text": [
      "3 2 5\n",
      "[(3, 2, 5), (4, 5, 6)]\n"
     ]
    }
   ],
   "source": [
    "cat = (3,2,5)\n",
    "dog = (4,5,6)\n",
    "\n",
    "animal_list = [cat,dog]\n",
    "print(*cat)\n",
    "kitty = [*animal_list]\n",
    "print(kitty)\n"
   ]
  },
  {
   "cell_type": "code",
   "execution_count": 2,
   "metadata": {},
   "outputs": [],
   "source": [
    "from visibility_graph import *\n",
    "start = point([1,2])\n",
    "end = point([4,5])\n",
    "obs = [obstacle(1,point([2,3])),obstacle(4,point([6,7]))]\n",
    "# graph = vis_graph(point(1,2),point(4,5),[obstacle(3,point([3,4]))])\n",
    "graph = vis_graph(start,end,obs)\n",
    "att = graph.get_obs_prop()\n",
    "\n",
    "x_min,x_max=find_test_range(obs)\n",
    "# x,y,r = obs[0].output_prop()\n",
    "\n",
    "# print(*att[0])\n",
    "# graph.node_dict['start']"
   ]
  },
  {
   "cell_type": "code",
   "execution_count": 14,
   "metadata": {},
   "outputs": [
    {
     "name": "stdout",
     "output_type": "stream",
     "text": [
      "(1, 2) (3, 4) (5, 6)\n",
      "[(1, 3, 5), (2, 4, 6)]\n",
      "(1, 3, 5) (2, 4, 6)\n"
     ]
    }
   ],
   "source": [
    "node_points = [(1,2),(3,4),(5,6)]\n",
    "print(*node_points)\n",
    "print(list(zip(*node_points)))\n",
    "print(*zip(*node_points))"
   ]
  },
  {
   "cell_type": "code",
   "execution_count": 1,
   "metadata": {},
   "outputs": [
    {
     "name": "stdout",
     "output_type": "stream",
     "text": [
      "[(-10.0, -10.0), (-5.50025, -10.0), (-1.0005000000000006, -10.0), (3.49925, -10.0), (7.999, -10.0), (-10.0, 5.0), (-5.50025, 5.0), (-1.0005000000000006, 5.0), (3.49925, 5.0), (7.999, 5.0), (-10.0, 20.0), (-5.50025, 20.0), (-1.0005000000000006, 20.0), (3.49925, 20.0), (7.999, 20.0), (-10.0, 35.0), (-5.50025, 35.0), (-1.0005000000000006, 35.0), (3.49925, 35.0), (7.999, 35.0), (-10.0, 50.0), (-5.50025, 50.0), (-1.0005000000000006, 50.0), (3.49925, 50.0), (7.999, 50.0)]\n",
      "[(18.001, -10.0), (26.00075, -10.0), (34.0005, -10.0), (42.00025, -10.0), (50.0, -10.0), (18.001, 5.0), (26.00075, 5.0), (34.0005, 5.0), (42.00025, 5.0), (50.0, 5.0), (18.001, 20.0), (26.00075, 20.0), (34.0005, 20.0), (42.00025, 20.0), (50.0, 20.0), (18.001, 35.0), (26.00075, 35.0), (34.0005, 35.0), (42.00025, 35.0), (50.0, 35.0), (18.001, 50.0), (26.00075, 50.0), (34.0005, 50.0), (42.00025, 50.0), (50.0, 50.0)]\n"
     ]
    }
   ],
   "source": [
    "from visibility_graph import *\n",
    "\n",
    "radius1 = 5\n",
    "\n",
    "obst_locations = [(13,10)]\n",
    "\n",
    "# create obstacle list\n",
    "obstacle_list = init_obs(obst_locations,radius1)\n",
    "\n",
    "# Trying batch start/end vals\n",
    "tol = 0.001\n",
    "num_points = 5\n",
    "min_x,max_x = find_test_range(obstacle_list)\n",
    "start_x = np.linspace(-10,min_x-tol,num_points)\n",
    "start_y = np.linspace(-10,50,num_points)\n",
    "end_x = np.linspace(max_x+tol,50,num_points)\n",
    "end_y = start_y\n",
    "\n",
    "start_grid = get_list_points(start_x,start_y)\n",
    "end_grid = get_list_points(end_x,end_y)\n",
    "\n",
    "print(start_grid)\n",
    "print(end_grid)\n",
    "\n"
   ]
  },
  {
   "cell_type": "code",
   "execution_count": null,
   "metadata": {},
   "outputs": [],
   "source": [
    "from visibility_graph import *\n",
    "\n",
    "radius1 = [6]\n",
    "obst_locations = [(13,10)]\n",
    "obstacle_list = init_obs(obst_locations,radius1)\n",
    "\n",
    "base_graph = vis_graph(obstacle_list)"
   ]
  }
 ],
 "metadata": {
  "kernelspec": {
   "display_name": "Python 3.9.13 ('visibility_graph')",
   "language": "python",
   "name": "python3"
  },
  "language_info": {
   "codemirror_mode": {
    "name": "ipython",
    "version": 3
   },
   "file_extension": ".py",
   "mimetype": "text/x-python",
   "name": "python",
   "nbconvert_exporter": "python",
   "pygments_lexer": "ipython3",
   "version": "3.9.13"
  },
  "orig_nbformat": 4,
  "vscode": {
   "interpreter": {
    "hash": "a4449e68fdfa72a39a76299b4d18c52e1ab7fd20642703db4079977f5fd4ea0a"
   }
  }
 },
 "nbformat": 4,
 "nbformat_minor": 2
}
